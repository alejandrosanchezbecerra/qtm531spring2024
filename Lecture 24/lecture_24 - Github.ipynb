{
 "cells": [
  {
   "attachments": {},
   "cell_type": "markdown",
   "metadata": {},
   "source": [
    "# <span style=\"color:darkblue\"> Lecture 24 - Advanced Github </span>\n",
    "\n",
    "<font size = \"5\">\n",
    "\n",
    "In this lecture we will talk about advanced project collaboration <br>\n",
    "with Github.\n",
    "\n",
    "https://www.youtube.com/watch?v=2ReR1YJrNOM\n",
    "\n",
    "https://en.wikipedia.org/wiki/Git"
   ]
  },
  {
   "cell_type": "markdown",
   "metadata": {},
   "source": [
    "# <span style=\"color:darkblue\"> I. What is Git? Colab?\n",
    "\n",
    "<font size = \"5\">\n",
    "\n",
    "- Github is a version control system that is based on an <br>\n",
    "open source language called \"Git\".\n",
    "- The goal of Git is to ensure that files are synchornized <br>\n",
    "and users can keep track of different versions in an <br>\n",
    "organized way\n",
    "- Github Desktop is a user-friendly interface that exectutes <br>\n",
    "git operations.\n"
   ]
  },
  {
   "cell_type": "markdown",
   "metadata": {},
   "source": [
    "\n",
    "# <span style=\"color:darkblue\"> II. Integration with Google Colab\n",
    "\n",
    "<font size = \"5\">\n",
    "\n",
    "You can also integrate Git into Google Colab or <br>\n",
    "web-based environments\n",
    "\n",
    "- Check the tutorials in the subfolder \"COLAB\" for how to do this\n",
    "- The tutorial also tell you how to get a Github \"token\" <br>\n",
    "so that run git commands from the terminal\n"
   ]
  },
  {
   "cell_type": "markdown",
   "metadata": {},
   "source": [
    "# <span style=\"color:darkblue\"> II. Basic Git Commands/Operations </span>\n"
   ]
  },
  {
   "cell_type": "markdown",
   "metadata": {},
   "source": [
    "<font size = \"5\">\n",
    "\n",
    "In the next slide we will show you the equivalence between <br>\n",
    "different Git commands and Github desktop.\n",
    "\n",
    "(0) Open the system terminal and change location to the Github folder\n",
    "\n",
    "<font size = \"3\">\n",
    "\n",
    "- Before proceding, you will need to obtain a \"token\" <br>\n",
    "from your Github account <br>\n",
    "which looks something like: <br>\n",
    "``` https://alskjdas_ALSKFDJGASDFG29382938ASSDKJSDK ```\n",
    "\n",
    "- For ease of exposition we refere to this as ```{token}```, <br>\n",
    "which you would need to enter manually."
   ]
  },
  {
   "cell_type": "markdown",
   "metadata": {},
   "source": [
    "<font size = \"5\">\n",
    "\n",
    "(1) Commit a set of changes\n",
    "\n",
    "<font size = \"3\">\n",
    "\n",
    "```git commit -m \"New Commmit\" ```\n",
    "\n",
    "<img src=\"figures/commit.png\" alt=\"drawing\" width=\"320\"/>"
   ]
  },
  {
   "cell_type": "markdown",
   "metadata": {},
   "source": [
    "<font size = \"5\">\n",
    "\n",
    "(2) Push to a branch\n",
    "\n",
    "<font size = \"3\">\n",
    "\n",
    "```git push {token}@github.com/username/repositoryname.git main ```\n",
    "\n",
    "\n",
    "\n",
    "- Token specified authentication information\n",
    "- The ```github.com/username/repositoryname.git``` is the URL\n",
    "- ```main``` is the branch that you want to push towards\n",
    "\n"
   ]
  },
  {
   "cell_type": "markdown",
   "metadata": {},
   "source": [
    "<font size = \"5\">\n",
    "\n",
    "(3) Pull a branch\n",
    "\n",
    "<font size = \"3\">\n",
    "\n",
    "```git pull {token}@github.com/username/repositoryname.git main ```\n",
    "\n",
    "- Pullng is a combination of two operations"
   ]
  },
  {
   "cell_type": "markdown",
   "metadata": {},
   "source": [
    "# <span style=\"color:darkblue\"> III. Exporting Environments </span>\n"
   ]
  },
  {
   "cell_type": "markdown",
   "metadata": {},
   "source": [
    "<font size = \"5\">\n",
    "\n",
    "We will store default configurations in the lecture folder\n",
    "\n",
    "\n",
    "<img src=\"figures/folder.png\" alt=\"drawing\" width=\"320\"/>\n",
    "\n",
    "We can get the absolute path by right-clicking\n",
    "\n",
    "\n",
    "<img src=\"figures/absolute_path.png\" alt=\"drawing\" width=\"320\"/>\n"
   ]
  },
  {
   "cell_type": "markdown",
   "metadata": {},
   "source": [
    "<font size = \"5\">\n",
    "\n",
    "Copy the path, and store it in a Python variable <br>\n",
    " called \"directory\""
   ]
  },
  {
   "cell_type": "code",
   "execution_count": 2,
   "metadata": {},
   "outputs": [],
   "source": [
    "# For example, on the instructor's computer it would be\n",
    "# /Users/asanc31/Documents/GitHub/qtm531spring2024/Lecture 23/configuration_files\n",
    "\n",
    "directory = \"/Users/asanc31/Documents/GitHub/qtm531spring2024/Lecture 23/configuration_files\"\n"
   ]
  },
  {
   "cell_type": "markdown",
   "metadata": {},
   "source": [
    "<font size = \"5\">\n",
    "\n",
    "Based on this file we can create a file-path"
   ]
  },
  {
   "cell_type": "code",
   "execution_count": 3,
   "metadata": {},
   "outputs": [
    {
     "data": {
      "text/plain": [
       "'\"/Users/asanc31/Documents/GitHub/qtm531spring2024/Lecture 23/configuration_files/environment.yml\"'"
      ]
     },
     "execution_count": 3,
     "metadata": {},
     "output_type": "execute_result"
    }
   ],
   "source": [
    "file_path  = \"\\\"\" + directory + \"/environment.yml\" + \"\\\"\"\n",
    "\n",
    "file_path"
   ]
  },
  {
   "cell_type": "markdown",
   "metadata": {},
   "source": [
    "<font size = \"5\">\n",
    "\n",
    "We can now create a custom command\n",
    "\n",
    "- Copy-paste the output into the terminal\n",
    "- This will create a \".yml\" command with all your current configurations"
   ]
  },
  {
   "cell_type": "code",
   "execution_count": 9,
   "metadata": {},
   "outputs": [
    {
     "data": {
      "text/plain": [
       "'conda env export > \"/Users/asanc31/Documents/GitHub/qtm531spring2024/Lecture 23/configuration_files/environment.yml\"'"
      ]
     },
     "execution_count": 9,
     "metadata": {},
     "output_type": "execute_result"
    }
   ],
   "source": [
    "command  = \"conda env export > \" + file_path\n",
    "\n",
    "command"
   ]
  },
  {
   "cell_type": "code",
   "execution_count": 5,
   "metadata": {},
   "outputs": [],
   "source": []
  },
  {
   "cell_type": "markdown",
   "metadata": {},
   "source": [
    "# <span style=\"color:darkblue\"> IV. Import Environments </span>\n"
   ]
  },
  {
   "cell_type": "markdown",
   "metadata": {},
   "source": [
    "<font size = \"5\">\n",
    "\n",
    "Define the paths of the requirements files"
   ]
  },
  {
   "cell_type": "code",
   "execution_count": 7,
   "metadata": {},
   "outputs": [],
   "source": [
    "example1_path = \"\\\"\" + directory + \"/example1.yml\" + \"\\\"\"\n",
    "example2_path = \"\\\"\" + directory + \"/example2.yml\" + \"\\\"\""
   ]
  },
  {
   "cell_type": "markdown",
   "metadata": {},
   "source": [
    "<font size = \"5\">\n",
    "\n",
    "Create a conda environment from a file\n",
    "\n",
    "- ```-f``` indicates that we will create the environment from a file\n",
    "- Copy-paste the output of ```import_command``` into the terminal"
   ]
  },
  {
   "cell_type": "code",
   "execution_count": 8,
   "metadata": {},
   "outputs": [
    {
     "data": {
      "text/plain": [
       "'conda env create -f \"/Users/asanc31/Documents/GitHub/qtm531spring2024/Lecture 23/configuration_files/example1.yml\"'"
      ]
     },
     "execution_count": 8,
     "metadata": {},
     "output_type": "execute_result"
    }
   ],
   "source": [
    "import_command  = \"conda env create -f \" + example1_path\n",
    "\n",
    "import_command"
   ]
  },
  {
   "cell_type": "markdown",
   "metadata": {},
   "source": [
    "<font size = \"5\">\n",
    "\n",
    "Try it yourself\n",
    "\n",
    "- Import example 2\n",
    "- See these in your active environments"
   ]
  },
  {
   "cell_type": "markdown",
   "metadata": {},
   "source": [
    "# <span style=\"color:darkblue\"> V. Useful links </span>\n"
   ]
  },
  {
   "cell_type": "markdown",
   "metadata": {},
   "source": [
    "\n",
    "https://astrobiomike.github.io/unix/conda-intro\n",
    "\n",
    "https://www.youtube.com/watch?v=wai-R0Ohcik\n",
    "\n"
   ]
  }
 ],
 "metadata": {
  "kernelspec": {
   "display_name": "base",
   "language": "python",
   "name": "python3"
  },
  "language_info": {
   "codemirror_mode": {
    "name": "ipython",
    "version": 3
   },
   "file_extension": ".py",
   "mimetype": "text/x-python",
   "name": "python",
   "nbconvert_exporter": "python",
   "pygments_lexer": "ipython3",
   "version": "3.9.18"
  },
  "orig_nbformat": 4
 },
 "nbformat": 4,
 "nbformat_minor": 2
}
