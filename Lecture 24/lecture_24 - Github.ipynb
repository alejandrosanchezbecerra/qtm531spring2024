{
 "cells": [
  {
   "attachments": {},
   "cell_type": "markdown",
   "metadata": {},
   "source": [
    "# <span style=\"color:darkblue\"> Lecture 24 - Advanced Github </span>\n",
    "\n",
    "<font size = \"5\">\n",
    "\n",
    "In this lecture we will talk about advanced project collaboration <br>\n",
    "with Github.\n",
    "\n",
    "https://www.youtube.com/watch?v=2ReR1YJrNOM\n",
    "\n",
    "https://en.wikipedia.org/wiki/Git"
   ]
  },
  {
   "cell_type": "markdown",
   "metadata": {},
   "source": [
    "# <span style=\"color:darkblue\"> I. What is Git? Colab?\n",
    "\n",
    "<font size = \"5\">\n",
    "\n",
    "- Github is a version control system that is based on an <br>\n",
    "open source language called \"Git\".\n",
    "- The goal of Git is to ensure that files are synchornized <br>\n",
    "and users can keep track of different versions in an <br>\n",
    "organized way\n",
    "- Github Desktop is a user-friendly interface that exectutes <br>\n",
    "git operations.\n"
   ]
  },
  {
   "cell_type": "markdown",
   "metadata": {},
   "source": [
    "\n",
    "# <span style=\"color:darkblue\"> II. Integration with Google Colab\n",
    "\n",
    "<font size = \"5\">\n",
    "\n",
    "You can also integrate Git into Google Colab or <br>\n",
    "web-based environments\n",
    "\n",
    "- Check the tutorials in the subfolder \"COLAB\" for how to do this\n",
    "- The tutorial also tell you how to get a Github \"token\" <br>\n",
    "so that run git commands from the terminal\n"
   ]
  },
  {
   "cell_type": "markdown",
   "metadata": {},
   "source": [
    "# <span style=\"color:darkblue\"> II. Basic Git Commands/Operations </span>\n"
   ]
  },
  {
   "cell_type": "markdown",
   "metadata": {},
   "source": [
    "<font size = \"5\">\n",
    "\n",
    "In the next slide we will show you the equivalence between <br>\n",
    "different Git commands and Github desktop.\n",
    "\n",
    "(0) Open the system terminal and change location to the Github folder\n",
    "\n",
    "<font size = \"3\">\n",
    "\n",
    "- Before proceding, you will need to obtain a \"token\" <br>\n",
    "from your Github account <br>\n",
    "which looks something like: <br>\n",
    "``` https://alskjdas_ALSKFDJGASDFG29382938ASSDKJSDK ```\n",
    "\n",
    "- For ease of exposition we refere to this as ```{token}```, <br>\n",
    "which you would need to enter manually."
   ]
  },
  {
   "cell_type": "markdown",
   "metadata": {},
   "source": [
    "<font size = \"5\">\n",
    "\n",
    "(1) Commit a set of changes\n",
    "\n",
    "<font size = \"3\">\n",
    "\n",
    "```git commit -m \"New Commmit\" ```\n",
    "\n",
    "<img src=\"figures/commit.png\" alt=\"drawing\" width=\"320\"/>"
   ]
  },
  {
   "cell_type": "markdown",
   "metadata": {},
   "source": [
    "<font size = \"5\">\n",
    "\n",
    "(2) Push to a branch\n",
    "\n",
    "<font size = \"3\">\n",
    "\n",
    "```git push {token}@github.com/username/repositoryname.git main ```\n",
    "\n",
    "\n",
    "\n",
    "- Token specified authentication information\n",
    "- The ```github.com/username/repositoryname.git``` is the URL\n",
    "- ```main``` is the branch that you want to push towards\n",
    "\n",
    "<img src=\"figures/push.png\" alt=\"drawing\" width=\"640\"/>\n"
   ]
  },
  {
   "cell_type": "markdown",
   "metadata": {},
   "source": [
    "<font size = \"5\">\n",
    "\n",
    "(3) Pull a branch\n",
    "\n",
    "<font size = \"3\">\n",
    "\n",
    "```git pull {token}@github.com/username/repositoryname.git main ```\n",
    "\n",
    "- Pullng is a combination of two operations: <br>\n",
    "\"fetch\" brings in changes from the web in a temporary location\n",
    "\"merge\" integrates them nto the current folder and the verson history"
   ]
  },
  {
   "cell_type": "markdown",
   "metadata": {},
   "source": [
    "# <span style=\"color:darkblue\"> IV. Ignore Files + Revert Changes </span>\n"
   ]
  },
  {
   "cell_type": "markdown",
   "metadata": {},
   "source": []
  }
 ],
 "metadata": {
  "kernelspec": {
   "display_name": "base",
   "language": "python",
   "name": "python3"
  },
  "language_info": {
   "codemirror_mode": {
    "name": "ipython",
    "version": 3
   },
   "file_extension": ".py",
   "mimetype": "text/x-python",
   "name": "python",
   "nbconvert_exporter": "python",
   "pygments_lexer": "ipython3",
   "version": "3.9.18"
  },
  "orig_nbformat": 4
 },
 "nbformat": 4,
 "nbformat_minor": 2
}
