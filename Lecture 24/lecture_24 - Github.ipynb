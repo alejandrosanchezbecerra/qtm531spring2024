{
 "cells": [
  {
   "attachments": {},
   "cell_type": "markdown",
   "metadata": {},
   "source": [
    "# <span style=\"color:darkblue\"> Lecture 24 - Advanced Github </span>\n",
    "\n",
    "<font size = \"5\">\n",
    "\n",
    "In this lecture we will talk about advanced project collaboration <br>\n",
    "with Github.\n",
    "\n",
    "https://www.youtube.com/watch?v=2ReR1YJrNOM\n",
    "\n",
    "https://en.wikipedia.org/wiki/Git"
   ]
  },
  {
   "cell_type": "markdown",
   "metadata": {},
   "source": [
    "# <span style=\"color:darkblue\"> I. What is Git? Colab?\n",
    "\n",
    "<font size = \"5\">\n",
    "\n",
    "- Github is a version control system that is based on an <br>\n",
    "open source language called \"Git\".\n",
    "- The goal of Git is to ensure that files are synchornized <br>\n",
    "and users can keep track of different versions in an <br>\n",
    "organized way\n",
    "- Github Desktop is a user-friendly interface that exectutes <br>\n",
    "git operations.\n"
   ]
  },
  {
   "cell_type": "markdown",
   "metadata": {},
   "source": [
    "\n",
    "# <span style=\"color:darkblue\"> II. Integration with Google Colab\n",
    "\n",
    "<font size = \"5\">\n",
    "\n",
    "You can also integrate Git into Google Colab or <br>\n",
    "web-based environments\n",
    "\n",
    "- Check the tutorials in the subfolder \"COLAB\" for how to do this\n",
    "- The tutorial also tell you how to get a Github \"token\" <br>\n",
    "so that run git commands from the terminal\n",
    "- This can also be helpful if you are working from other web <br>\n",
    "development environments such as Amazon Web Services (AWS)."
   ]
  },
  {
   "cell_type": "markdown",
   "metadata": {},
   "source": [
    "# <span style=\"color:darkblue\"> III. Basic Git Commands/Operations </span>\n"
   ]
  },
  {
   "cell_type": "markdown",
   "metadata": {},
   "source": [
    "<font size = \"5\">\n",
    "\n",
    "In the next slide we will show you the equivalence between <br>\n",
    "different Git commands and Github desktop.\n",
    "\n",
    "(0) Open the system terminal and change location to the Github folder\n",
    "\n",
    "<font size = \"3\">\n",
    "\n",
    "- Before proceding, you will need to obtain a \"token\" <br>\n",
    "from your Github account <br>\n",
    "which looks something like: <br>\n",
    "``` https://alskjdas_ALSKFDJGASDFG29382938ASSDKJSDK ```\n",
    "\n",
    "- For ease of exposition we refere to this as ```{token}```, <br>\n",
    "which you would need to enter manually."
   ]
  },
  {
   "cell_type": "markdown",
   "metadata": {},
   "source": [
    "<font size = \"5\">\n",
    "\n",
    "(1) Commit a set of changes\n",
    "\n",
    "<font size = \"3\">\n",
    "\n",
    "```git commit -m \"New Commmit\" ```\n",
    "\n",
    "<img src=\"figures/commit.png\" alt=\"drawing\" width=\"320\"/>"
   ]
  },
  {
   "cell_type": "markdown",
   "metadata": {},
   "source": [
    "<font size = \"5\">\n",
    "\n",
    "(2) Push to a branch\n",
    "\n",
    "<font size = \"3\">\n",
    "\n",
    "```git push {token}@github.com/username/repositoryname.git main ```\n",
    "\n",
    "\n",
    "\n",
    "- Token specified authentication information\n",
    "- The ```github.com/username/repositoryname.git``` is the URL\n",
    "- ```main``` is the branch that you want to push towards\n",
    "\n",
    "<img src=\"figures/push.png\" alt=\"drawing\" width=\"640\"/>\n"
   ]
  },
  {
   "cell_type": "markdown",
   "metadata": {},
   "source": [
    "<font size = \"5\">\n",
    "\n",
    "(3) Pull a branch\n",
    "\n",
    "<font size = \"3\">\n",
    "\n",
    "```git pull {token}@github.com/username/repositoryname.git main ```\n",
    "\n",
    "- Pullng is a combination of two operations: <br>\n",
    "\"fetch\" brings in changes from the web in a temporary location <br>\n",
    "\"merge\" integrates them nto the current folder and the verson history\n",
    "\n",
    "<img src=\"figures/fetch.png\" alt=\"drawing\" width=\"640\"/>\n",
    "\n",
    "Dealing with conflicts by fetching before merging\n",
    "\n",
    "- Sometimes there can be conflicts between a current file and a <br>\n",
    "pulled file. <br>\n",
    "- On Github desktop, you can deal with these with an option called <br>\n",
    "\"Checkout\" where the old code is labelled \"HEAD\" followed by the new code.\n",
    "- You can manually keep the sections of the code that you want before <br>\n",
    "merging.\n",
    "\n",
    "https://www.youtube.com/watch?v=MIVW0sijSjY"
   ]
  },
  {
   "cell_type": "markdown",
   "metadata": {},
   "source": [
    "# <span style=\"color:darkblue\"> IV. Ignore Files and Revert Changes </span>\n",
    "\n",
    "<font size = \"5\">\n",
    "\n",
    "You can choose **not** to update certain files\n",
    "\n",
    "<font size = \"3\">\n",
    "\n",
    "- For example, they could be too heavy or confidential.\n",
    "- Simply a \".gitignore\" file at the root of the Github directory <br>\n",
    "(see an example in the subfolder \"example_ignore\")\n",
    "- You can ignore specific files, file extensions (with a *) prefix <br>\n",
    "or files within a specific subfolder\n",
    "\n",
    "<img src=\"figures/git_ignore.png\" alt=\"drawing\" width=\"400\"/>\n"
   ]
  },
  {
   "cell_type": "markdown",
   "metadata": {},
   "source": [
    "To revert a change"
   ]
  },
  {
   "cell_type": "markdown",
   "metadata": {},
   "source": [
    "# <span style=\"color:darkblue\"> V. Multi-branches, rebasing, and pull requests </span>\n",
    "\n",
    "(1) You can create multiple branches within a single project\n",
    "\n",
    "- Example 1: You could be working on a new feature <br>\n",
    "tha you work on separately, before merging with the team\n",
    "- Example 2: You are supervising somebody else' work and <br>\n",
    "you want to check it before integrating\n"
   ]
  },
  {
   "cell_type": "markdown",
   "metadata": {},
   "source": [
    "\n",
    "\n",
    "\n",
    "<img src=\"figures/multi_branch_1.png\" alt=\"drawing\" width=\"400\"/>\n",
    "<img src=\"figures/multi_branch_2.png\" alt=\"drawing\" width=\"240\"/>"
   ]
  }
 ],
 "metadata": {
  "kernelspec": {
   "display_name": "base",
   "language": "python",
   "name": "python3"
  },
  "language_info": {
   "codemirror_mode": {
    "name": "ipython",
    "version": 3
   },
   "file_extension": ".py",
   "mimetype": "text/x-python",
   "name": "python",
   "nbconvert_exporter": "python",
   "pygments_lexer": "ipython3",
   "version": "3.9.18"
  },
  "orig_nbformat": 4
 },
 "nbformat": 4,
 "nbformat_minor": 2
}
